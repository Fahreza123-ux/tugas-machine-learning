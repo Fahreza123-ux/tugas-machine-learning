{
  "nbformat": 4,
  "nbformat_minor": 0,
  "metadata": {
    "colab": {
      "provenance": [],
      "collapsed_sections": [
        "bsBvZVHL2lPo",
        "ycRSWn-T4IkG",
        "pIIWF2B36EU-",
        "y67mn-rF73Xn",
        "IGMoxeUQ-Vea",
        "Ojf1l-yhCe0M",
        "idM1ZT8DEUWL",
        "-amhJUOIIN9T",
        "-Afb3Go-IW_H"
      ]
    },
    "kernelspec": {
      "name": "python3",
      "display_name": "Python 3"
    },
    "language_info": {
      "name": "python"
    }
  },
  "cells": [
    {
      "cell_type": "markdown",
      "source": [
        "# Persiapan Streamlit"
      ],
      "metadata": {
        "id": "bsBvZVHL2lPo"
      }
    },
    {
      "cell_type": "code",
      "execution_count": 23,
      "metadata": {
        "id": "S5UxYyn3XH0i",
        "colab": {
          "base_uri": "https://localhost:8080/"
        },
        "outputId": "0e02a60c-1818-4a34-ac45-71d9d3fac095"
      },
      "outputs": [
        {
          "output_type": "stream",
          "name": "stdout",
          "text": [
            "Drive already mounted at /content/drive; to attempt to forcibly remount, call drive.mount(\"/content/drive\", force_remount=True).\n"
          ]
        }
      ],
      "source": [
        "from google.colab import drive\n",
        "drive.mount('/content/drive')"
      ]
    },
    {
      "cell_type": "code",
      "source": [
        "!mkdir Pengembangan_Machine_Learning"
      ],
      "metadata": {
        "id": "CzESuawe2v0u"
      },
      "execution_count": 24,
      "outputs": []
    },
    {
      "cell_type": "code",
      "source": [
        "cd Pengembangan_Machine_Learning"
      ],
      "metadata": {
        "colab": {
          "base_uri": "https://localhost:8080/"
        },
        "id": "qqGZ2AsO2z9A",
        "outputId": "a047cf36-f987-42b6-db6b-2783ee467275"
      },
      "execution_count": 25,
      "outputs": [
        {
          "output_type": "stream",
          "name": "stdout",
          "text": [
            "/content/Pengembangan_Machine_Learning/Pengembangan_Machine_Learning\n"
          ]
        }
      ]
    },
    {
      "cell_type": "code",
      "source": [
        "%%writefile requirements.txt\n",
        "# Berikut adalah daftar library yang akan digunakan dalam project ini\n",
        "streamlit"
      ],
      "metadata": {
        "colab": {
          "base_uri": "https://localhost:8080/"
        },
        "id": "o3_1c2qk3Eoa",
        "outputId": "a59bb440-c076-4b78-9120-7d004adaedbd"
      },
      "execution_count": 26,
      "outputs": [
        {
          "output_type": "stream",
          "name": "stdout",
          "text": [
            "Writing requirements.txt\n"
          ]
        }
      ]
    },
    {
      "cell_type": "code",
      "source": [
        "!ls"
      ],
      "metadata": {
        "colab": {
          "base_uri": "https://localhost:8080/"
        },
        "id": "upsJMnoo3GGr",
        "outputId": "ac24bdc6-923d-4c0e-94bf-897afb25f0c0"
      },
      "execution_count": 27,
      "outputs": [
        {
          "output_type": "stream",
          "name": "stdout",
          "text": [
            "requirements.txt\n"
          ]
        }
      ]
    },
    {
      "cell_type": "code",
      "source": [
        "!cat requirements.txt"
      ],
      "metadata": {
        "colab": {
          "base_uri": "https://localhost:8080/"
        },
        "id": "qIaeaoDs3HVd",
        "outputId": "41bf1a31-c8a8-499b-a142-e851fd000e82"
      },
      "execution_count": 28,
      "outputs": [
        {
          "output_type": "stream",
          "name": "stdout",
          "text": [
            "# Berikut adalah daftar library yang akan digunakan dalam project ini\n",
            "streamlit\n"
          ]
        }
      ]
    },
    {
      "cell_type": "code",
      "source": [
        "!pip install -q -r requirements.txt"
      ],
      "metadata": {
        "id": "MAaHgLhN3IiA"
      },
      "execution_count": 29,
      "outputs": []
    },
    {
      "cell_type": "code",
      "source": [
        "!pip list | grep streamlit"
      ],
      "metadata": {
        "id": "iOHIBtDa3KMN",
        "colab": {
          "base_uri": "https://localhost:8080/"
        },
        "outputId": "227b844d-d4e6-4a7f-b3f0-a5c652cacc79"
      },
      "execution_count": 30,
      "outputs": [
        {
          "output_type": "stream",
          "name": "stdout",
          "text": [
            "streamlit                             1.45.1\n"
          ]
        }
      ]
    },
    {
      "cell_type": "code",
      "source": [
        "!pip install streamlit -q"
      ],
      "metadata": {
        "id": "Z_2NmWuV3L0b"
      },
      "execution_count": 31,
      "outputs": []
    },
    {
      "cell_type": "markdown",
      "source": [
        "## Buat File Home.py"
      ],
      "metadata": {
        "id": "4mi2owHp3iJO"
      }
    },
    {
      "cell_type": "code",
      "source": [
        "%%writefile Home.py\n",
        "import streamlit as st\n",
        "st.title(\"Pengembangan Machine Learning\")\n",
        "\n",
        "st.header(\"Pengembangan Machine Learning\")\n",
        "st.subheader(\"Menggunakan Machine Learning\")\n",
        "st.text(\"Selamat datang di aplikasi kami!\")"
      ],
      "metadata": {
        "id": "hywL_Rxd3pDP",
        "colab": {
          "base_uri": "https://localhost:8080/"
        },
        "outputId": "f9abc169-6504-4bd6-a3bd-3877c6e84c6e"
      },
      "execution_count": 32,
      "outputs": [
        {
          "output_type": "stream",
          "name": "stdout",
          "text": [
            "Writing Home.py\n"
          ]
        }
      ]
    },
    {
      "cell_type": "code",
      "source": [
        "pwd"
      ],
      "metadata": {
        "id": "Z1znrHjg3rNX",
        "colab": {
          "base_uri": "https://localhost:8080/",
          "height": 0
        },
        "outputId": "5a5f944b-6c15-4359-9e4d-15aa5d372ea3"
      },
      "execution_count": 33,
      "outputs": [
        {
          "output_type": "execute_result",
          "data": {
            "text/plain": [
              "'/content/Pengembangan_Machine_Learning/Pengembangan_Machine_Learning'"
            ],
            "application/vnd.google.colaboratory.intrinsic+json": {
              "type": "string"
            }
          },
          "metadata": {},
          "execution_count": 33
        }
      ]
    },
    {
      "cell_type": "code",
      "source": [
        "!ls"
      ],
      "metadata": {
        "id": "FQKMjRKm3tV0",
        "colab": {
          "base_uri": "https://localhost:8080/"
        },
        "outputId": "7c7b1219-5b71-4462-9f23-88161817c129"
      },
      "execution_count": 34,
      "outputs": [
        {
          "output_type": "stream",
          "name": "stdout",
          "text": [
            "Home.py  requirements.txt\n"
          ]
        }
      ]
    },
    {
      "cell_type": "markdown",
      "source": [
        "## Buat Direktorasi Pages"
      ],
      "metadata": {
        "id": "jvmrcelP3zdc"
      }
    },
    {
      "cell_type": "code",
      "source": [
        "!mkdir pages"
      ],
      "metadata": {
        "id": "eGXYPw1Z37tH"
      },
      "execution_count": 35,
      "outputs": []
    },
    {
      "cell_type": "code",
      "source": [
        "!ls"
      ],
      "metadata": {
        "id": "x8Z6wh5e4Dhh",
        "colab": {
          "base_uri": "https://localhost:8080/"
        },
        "outputId": "58e158ba-3e6b-4686-825d-443c2175ce62"
      },
      "execution_count": 36,
      "outputs": [
        {
          "output_type": "stream",
          "name": "stdout",
          "text": [
            "Home.py  pages\trequirements.txt\n"
          ]
        }
      ]
    },
    {
      "cell_type": "code",
      "source": [
        "!ls pages"
      ],
      "metadata": {
        "id": "cbRIbxei3-JG"
      },
      "execution_count": 37,
      "outputs": []
    },
    {
      "cell_type": "markdown",
      "source": [
        "# Pertemuan 2"
      ],
      "metadata": {
        "id": "ycRSWn-T4IkG"
      }
    },
    {
      "cell_type": "code",
      "source": [
        "%%writefile pages/Contoh_Pertemuan_2.py\n",
        "# 1. Menampilkan teks biasa\n",
        "import streamlit as st\n",
        "st.text(\"Selamat datang di aplikasi kami!\")\n",
        "\n",
        "# 2. Heading dan subheading\n",
        "st.title(\"Aplikasi Prediksi Kesegaran Ikan\")\n",
        "st.header(\"Fitur Utama\")\n",
        "st.subheader(\"Menggunakan Machine Learning\")\n",
        "\n",
        "# 3. Menggunakan markdown untuk format teks\n",
        "st.markdown(\"**Teks Tebal** dan *Teks Miring*\")\n",
        "st.markdown(\"> Ini adalah kutipan.\")\n",
        "st.markdown(\"- Item pertama\\n- Item kedua\\n- Item ketiga\")\n",
        "\n",
        "# 4. Menampilkan caption\n",
        "st.caption(\"Dikembangkan oleh Tim Data Science\")\n",
        "\n",
        "# 5. Menampilkan kode program\n",
        "st.code(\"\"\"\n",
        "def hello():\n",
        "    print(\"Hello, Streamlit!\")\n",
        "\"\"\", language=\"python\")\n",
        "\n",
        "# 6. Menampilkan rumus matematika dengan Latex\n",
        "st.latex(r\"\\int_a^b f(x)dx = F(b) - F(a)\")\n",
        "\n",
        "# 7. Menampilkan garis pemisah\n",
        "st.divider()\n",
        "\n",
        "# 8. Menampilkan kode Python beserta outputnya\n",
        "st.title(\"Demonstrasi st.echo()\")\n",
        "\n",
        "with st.echo():\n",
        "    st.write(\"Halo, ini teks yang ditampilkan di Streamlit!\")\n",
        "    angka = 10 + 5\n",
        "    st.write(f\"Hasil perhitungan: {angka}\")"
      ],
      "metadata": {
        "colab": {
          "base_uri": "https://localhost:8080/"
        },
        "id": "UQxjWHAu4MWh",
        "outputId": "705d5be5-2582-40bb-8709-1e86d4266299"
      },
      "execution_count": 38,
      "outputs": [
        {
          "output_type": "stream",
          "name": "stdout",
          "text": [
            "Writing pages/Contoh_Pertemuan_2.py\n"
          ]
        }
      ]
    },
    {
      "cell_type": "code",
      "source": [
        "%%writefile pages/Tugas_Pertemuan_2.py\n",
        "import streamlit as st\n",
        "\n",
        "# Judul Halaman\n",
        "st.title(\"Pemesanan Kopi di Fore Coffee\")\n",
        "\n",
        "# Deskripsi Umum\n",
        "st.text(\"\"\"\n",
        "Fore Coffee adalah salah satu startup kopi ternama di Indonesia yang memanfaatkan teknologi digital\n",
        "untuk mempermudah pelanggan dalam memesan kopi. Dengan aplikasi mobile dan integrasi platform digital\n",
        "lain seperti GoFood dan GrabFood, Fore Coffee mengedepankan pengalaman pengguna yang cepat, mudah, dan personal.\n",
        "Melalui sistem pemesanan online, pelanggan dapat memilih berbagai varian minuman, menentukan metode pembayaran,\n",
        "memilih lokasi pengambilan, hingga melacak status pesanan secara real-time.\n",
        "\"\"\")\n",
        "\n",
        "# Subheader Fitur Utama\n",
        "st.subheader(\"Fitur Utama Sistem Pemesanan Fore Coffee\")\n",
        "\n",
        "# Daftar fitur dengan markdown\n",
        "st.markdown(\"\"\"\n",
        "- **Pemesanan Online**: Pengguna dapat memesan kopi kapan saja melalui aplikasi Fore Coffee.\n",
        "- **Kustomisasi Menu**: Pelanggan dapat menyesuaikan ukuran, level gula, dan jenis susu sesuai preferensi.\n",
        "- **Pembayaran Digital**: Mendukung pembayaran dengan e-wallet seperti OVO, GoPay, Dana, dan kartu debit/kredit.\n",
        "- **Layanan Ambil Sendiri (Pickup)**: Pilih outlet terdekat dan ambil kopi tanpa antri panjang.\n",
        "- **Integrasi Layanan Antar**: Pesan lewat aplikasi pihak ketiga seperti GrabFood dan GoFood.\n",
        "- **Riwayat Pesanan**: Menyediakan histori transaksi untuk memudahkan pemesanan ulang.\n",
        "- **Loyalty & Rewards**: Dapatkan poin setiap pembelian untuk ditukar dengan diskon atau minuman gratis.\n",
        "\"\"\")\n",
        "\n",
        "# Langkah-langkah pemesanan\n",
        "st.subheader(\"Langkah-langkah Pemesanan Kopi di Fore Coffee\")\n",
        "\n",
        "st.markdown(\"\"\"\n",
        "1. Unduh dan buka aplikasi Fore Coffee dari Play Store atau App Store.\n",
        "2. Registrasi atau login dengan akun yang sudah ada.\n",
        "3. Telusuri menu dan pilih kopi yang diinginkan.\n",
        "4. Kustomisasi ukuran, gula, es, dan bahan tambahan.\n",
        "5. Pilih outlet terdekat atau layanan antar.\n",
        "6. Lakukan pembayaran melalui metode yang tersedia.\n",
        "7. Tunggu notifikasi saat kopi siap diambil atau dalam proses pengantaran.\n",
        "\"\"\")\n",
        "\n",
        "# Contoh kode simulasi pemesanan sederhana\n",
        "st.subheader(\"Contoh Simulasi Kode Pemesanan\")\n",
        "\n",
        "st.code(\"\"\"\n",
        "class ForeCoffeeOrder:\n",
        "    def __init__(self, menu, size='Regular', sugar='Normal', milk='Fresh Milk'):\n",
        "        self.menu = menu\n",
        "        self.size = size\n",
        "        self.sugar = sugar\n",
        "        self.milk = milk\n",
        "\n",
        "    def summary(self):\n",
        "        return f\"Pesanan: {self.size} {self.menu} dengan {self.sugar} gula dan {self.milk}\"\n",
        "\n",
        "order1 = ForeCoffeeOrder(\"Caramel Macchiato\", size=\"Large\", sugar=\"Less\", milk=\"Oat Milk\")\n",
        "print(order1.summary())\n",
        "\"\"\")\n",
        "\n",
        "# Gambar ilustrasi (ganti path jika ada gambar lokal)\n",
        "st.image(\"/content/drive/MyDrive/machine learning /fore.png\", caption=\"Logo Fore Coffee\")\n",
        "\n",
        "# Divider\n",
        "st.divider()\n",
        "\n",
        "# Menampilkan formula diskon menggunakan LaTeX\n",
        "st.subheader(\"Rumus Diskon Pembelian\")\n",
        "\n",
        "st.latex(r\"\"\"\n",
        "\\text{Harga Akhir} = \\text{Harga Awal} - (\\text{Harga Awal} \\times \\text{Diskon\\%})\n",
        "\"\"\")\n",
        "\n",
        "st.write(\"Contoh Perhitungan:\")\n",
        "st.markdown(\"\"\"\n",
        "Jika harga awal minuman adalah Rp40.000 dan mendapatkan diskon 25%, maka:\n",
        "\"\"\")\n",
        "\n",
        "st.latex(r\"\"\"\n",
        "\\text{Harga Akhir} = 40000 - (40000 \\times 0.25) = 30000\n",
        "\"\"\")\n",
        "\n",
        "# Caption informasi tambahan\n",
        "st.caption(\"Versi 1.0 | Tugas Pemrograman Streamlit - Pertemuan 2 | Disusun oleh Mahasiswa\")\n",
        "\n"
      ],
      "metadata": {
        "colab": {
          "base_uri": "https://localhost:8080/"
        },
        "id": "mawhbMiq4Y70",
        "outputId": "96896f67-50c1-4898-f035-be5b9177dd64"
      },
      "execution_count": 39,
      "outputs": [
        {
          "output_type": "stream",
          "name": "stdout",
          "text": [
            "Writing pages/Tugas_Pertemuan_2.py\n"
          ]
        }
      ]
    },
    {
      "cell_type": "code",
      "source": [
        "!mkdir images"
      ],
      "metadata": {
        "id": "XRW7UMdP5faY"
      },
      "execution_count": 40,
      "outputs": []
    },
    {
      "cell_type": "code",
      "source": [
        "!curl https://w7.pngwing.com/pngs/144/944/png-transparent-button-blue-button-miscellaneous-blue-sphere-thumbnail.png -o images/icon.jpg"
      ],
      "metadata": {
        "colab": {
          "base_uri": "https://localhost:8080/"
        },
        "id": "V2nLMLej5fxd",
        "outputId": "8d7bc19e-5ca8-461c-d9f3-ce82864cffcd"
      },
      "execution_count": 41,
      "outputs": [
        {
          "output_type": "stream",
          "name": "stdout",
          "text": [
            "  % Total    % Received % Xferd  Average Speed   Time    Time     Time  Current\n",
            "                                 Dload  Upload   Total   Spent    Left  Speed\n",
            "100 11517  100 11517    0     0  37333      0 --:--:-- --:--:-- --:--:-- 37271\n"
          ]
        }
      ]
    },
    {
      "cell_type": "code",
      "source": [],
      "metadata": {
        "id": "3Dx55QAE5hfk"
      },
      "execution_count": 41,
      "outputs": []
    },
    {
      "cell_type": "markdown",
      "source": [
        "# Pertemuan 3"
      ],
      "metadata": {
        "id": "pIIWF2B36EU-"
      }
    },
    {
      "cell_type": "code",
      "source": [
        "%%writefile pages/Contoh_Pertemuan_3.py\n",
        "import streamlit as st\n",
        "import datetime\n",
        "\n",
        "# INPUT WIDGET\n",
        "\n",
        "# 1. TEXT INPUT\n",
        "# a. TEXT INPUT\n",
        "username = st.text_input('Masukkan nama Anda:', 'John Doe')\n",
        "password = st.text_input('Masukkan kata sandi Anda:', type='password', max_chars=12)\n",
        "st.write(f'Selamat Datang {username}')\n",
        "if password:\n",
        "    st.write('Kata sandi dimasukkan.')\n",
        "\n",
        "# b. TEXT AREA\n",
        "description = st.text_area('Masukkan deskripsi Anda:', 'Tulis deskripsi Anda di sini...', height=150)\n",
        "st.write(f'Deskripsi yang dimasukkan: {description}')\n",
        "\n",
        "# c. CHAT INPUT\n",
        "message = st.chat_input('Tulis pesan Anda:')\n",
        "if message:\n",
        "    st.write(f'Pesan yang Anda masukkan: {message}')\n",
        "\n",
        "# 2. NUMERIC INPUT\n",
        "age = st.number_input('Masukkan umur Anda:', min_value=0, max_value=100, value=18, step=1)\n",
        "st.write(f'Umur Anda adalah: {age}')\n",
        "\n",
        "# 3. SLIDER\n",
        "umur = st.slider('Pilih umur Anda:', min_value=0, max_value=100, value=25, step=1)\n",
        "st.write(f\"Umur Anda adalah: {umur}\")\n",
        "\n",
        "# 4. SELECT BOX\n",
        "color = st.selectbox('Pilih warna favorit Anda:', ['Merah', 'Biru', 'Hijau', 'Kuning'])\n",
        "st.write(f'Warna favorit Anda adalah: {color}')\n",
        "\n",
        "# 5. MULTI SELECT\n",
        "hobbies = st.multiselect('Pilih hobi favorit Anda:', ['Membaca', 'Olahraga', 'Menonton Film', 'Musik'])\n",
        "st.write(f'Hobi favorit Anda adalah: {\", \".join(hobbies)}')\n",
        "\n",
        "# 6. CHECK BOX\n",
        "agree = st.checkbox('Setuju dengan syarat dan ketentuan')\n",
        "if agree:\n",
        "    st.write('Terima kasih, Anda setuju dengan syarat dan ketentuan.')\n",
        "else:\n",
        "    st.write('Silakan centang untuk menyetujui syarat dan ketentuan.')\n",
        "\n",
        "# 7. RADIO BUTTON\n",
        "gender = st.radio('Pilih jenis kelamin:', ['Laki-laki', 'Perempuan'])\n",
        "st.write(f'Jenis kelamin yang Anda pilih adalah: {gender}')\n",
        "\n",
        "# 8. SELECT SLIDER\n",
        "difficulty = st.select_slider('Pilih tingkat kesulitan:', options=['Mudah', 'Sedang', 'Sulit'])\n",
        "st.write(f'Tingkat kesulitan yang Anda pilih adalah: {difficulty}')\n",
        "\n",
        "# 9. BUTTON\n",
        "angka_1 = st.number_input(\"Masukkan angka pertama:\", value=0)\n",
        "angka_2 = st.number_input(\"Masukkan angka kedua:\", value=0)\n",
        "def hitung_penjumlahan(a, b):\n",
        "    return a + b\n",
        "if st.button(\"Hitung Penjumlahan\"):\n",
        "    hasil = hitung_penjumlahan(angka_1, angka_2)\n",
        "    st.write(f\"Hasil penjumlahan: {hasil}\")\n",
        "\n",
        "# 10. DOWNLOAD BUTTON\n",
        "data = 'Ini adalah contoh teks untuk diunduh.'\n",
        "st.download_button('Unduh Teks', data, file_name='contoh.txt', mime='text/plain')\n",
        "\n",
        "# 11. LINK BUTTON\n",
        "st.link_button('Kunjungi Streamlit', url='https://streamlit.io')\n",
        "\n",
        "# 12. PAGE LINK\n",
        "# Menggunakan emoji sebagai ikon untuk st.page_link\n",
        "st.page_link('https://www.streamlit.io',\n",
        "             label='Kunjungi Streamlit',\n",
        "             icon='🔗')  # Menggunakan emoji link sebagai ikon\n",
        "\n",
        "# 13. FORM SUBMIT BUTTON\n",
        "with st.form(key='my_form'):\n",
        "    name = st.text_input('Nama Anda')\n",
        "    age_form = st.number_input('Usia Anda', min_value=0)\n",
        "    submit_button = st.form_submit_button(label='Kirim')\n",
        "    if submit_button:\n",
        "        st.write(f'Nama: {name}')\n",
        "        st.write(f'Usia: {age_form}')\n",
        "\n",
        "# 14. DATE & TIME INPUT\n",
        "date = st.date_input('Pilih Tanggal', value=datetime.date.today())\n",
        "st.write('Tanggal yang dipilih:', date)\n",
        "time = st.time_input('Pilih Waktu', value=datetime.time(14, 30))\n",
        "st.write('Waktu yang dipilih:', time)"
      ],
      "metadata": {
        "colab": {
          "base_uri": "https://localhost:8080/"
        },
        "id": "CXztfjEz6Iap",
        "outputId": "19b3ef2d-a2e2-4bb1-d78a-57c04653ea1d"
      },
      "execution_count": 42,
      "outputs": [
        {
          "output_type": "stream",
          "name": "stdout",
          "text": [
            "Writing pages/Contoh_Pertemuan_3.py\n"
          ]
        }
      ]
    },
    {
      "cell_type": "code",
      "source": [
        "%%writefile pages/Latihan_Pertemuan_3.py\n",
        "import streamlit as st\n",
        "\n",
        "# Fungsi untuk konversi ke rupiah\n",
        "def convert_to_rupiah(amount, rate):\n",
        "    return amount * rate\n",
        "\n",
        "# Nilai tukar fiktif (misalnya)\n",
        "exchange_rates = {\n",
        "    'USD': 15500,\n",
        "    'EUR': 17000,\n",
        "    'JPY': 110\n",
        "}\n",
        "\n",
        "st.title(\"Konversi Mata Uang ke Rupiah\")\n",
        "\n",
        "# Input form untuk memasukkan jumlah uang\n",
        "with st.form(key='currency_conversion_form'):\n",
        "    # Pilihan mata uang\n",
        "    currency = st.selectbox('Pilih mata uang:', ['USD', 'EUR', 'JPY'])\n",
        "\n",
        "    # Input jumlah uang yang akan dikonversi\n",
        "    amount = st.number_input(f'Masukkan jumlah {currency}:', min_value=0.01, format=\"%.2f\")\n",
        "\n",
        "    # Tombol submit\n",
        "    submit_button = st.form_submit_button('Hitung')\n",
        "\n",
        "# Proses konversi jika tombol submit ditekan\n",
        "if submit_button:\n",
        "    if amount > 0:\n",
        "        # Ambil nilai tukar yang sesuai dengan mata uang yang dipilih\n",
        "        rate = exchange_rates[currency]\n",
        "\n",
        "        # Hitung konversi\n",
        "        rupiah_amount = convert_to_rupiah(amount, rate)\n",
        "\n",
        "        # Tampilkan hasil konversi\n",
        "        st.success(f'{amount} {currency} setara dengan IDR {rupiah_amount:,.2f}')\n",
        "    else:\n",
        "        st.error('Jumlah yang dimasukkan harus lebih dari 0.')"
      ],
      "metadata": {
        "colab": {
          "base_uri": "https://localhost:8080/"
        },
        "id": "JMBxd5dj6Kqr",
        "outputId": "8e5b9186-ba66-4b62-f1da-9292dbe23618"
      },
      "execution_count": 43,
      "outputs": [
        {
          "output_type": "stream",
          "name": "stdout",
          "text": [
            "Writing pages/Latihan_Pertemuan_3.py\n"
          ]
        }
      ]
    },
    {
      "cell_type": "code",
      "source": [
        "%%writefile pages/Tugas_Pertemuan_3.py\n",
        "import streamlit as st\n",
        "from datetime import datetime\n",
        "\n",
        "# Judul halaman\n",
        "st.title(\"Formulir Pendaftaran Volunteer Event Konser\")\n",
        "\n",
        "# Deskripsi umum\n",
        "st.text(\n",
        "    \"Halo, calon volunteer!\\n\"\n",
        "    \"Kami membuka kesempatan bagi kamu yang ingin berkontribusi dalam Event Konser Musik Nasional 2025.\\n\"\n",
        "    \"Dengan bergabung sebagai volunteer, kamu akan mendapatkan pengalaman berharga dalam dunia event organizer.\\n\"\n",
        "    \"Silakan isi formulir di bawah ini dengan data yang sebenar-benarnya.\"\n",
        ")\n",
        "\n",
        "# Daftar fitur pada formulir\n",
        "st.markdown(\"\"\"\n",
        "### Fitur-Fitur Formulir:\n",
        "- Mengisi nama lengkap\n",
        "- Mengisi usia (dibatasi antara 17 hingga 35 tahun)\n",
        "- Memasukkan tanggal lahir untuk validasi usia\n",
        "- Memilih divisi volunteer sesuai minat\n",
        "\n",
        "### Daftar Divisi yang Tersedia:\n",
        "1. Keamanan\n",
        "2. Dokumentasi\n",
        "3. Logistik\n",
        "4. Konsumsi\n",
        "5. Humas\n",
        "6. Tiket & Registrasi\n",
        "\"\"\")\n",
        "\n",
        "# Caption sebagai catatan tambahan\n",
        "st.caption(\"Catatan: Pendaftaran volunteer ditutup pada tanggal 15 Juni 2025.\")\n",
        "\n",
        "# Menampilkan contoh kode formulir (dalam Python Streamlit)\n",
        "st.markdown(\"### Contoh Kode Python (Formulir Streamlit)\")\n",
        "st.code(\"\"\"\n",
        "with st.form(key='form_volunteer'):\n",
        "    nama = st.text_input(\"Nama Lengkap\")\n",
        "    usia = st.number_input(\"Usia\", min_value=17, max_value=35)\n",
        "    tanggal_lahir = st.date_input(\"Tanggal Lahir\")\n",
        "    divisi = st.selectbox(\"Divisi\", [\"Keamanan\", \"Logistik\", \"Dokumentasi\", \"Konsumsi\", \"Humas\"])\n",
        "    tombol_submit = st.form_submit_button(\"Daftar\")\n",
        "\"\"\", language='python')\n",
        "\n",
        "# Formulir interaktif untuk user\n",
        "st.markdown(\"### Silakan Isi Formulir Berikut:\")\n",
        "\n",
        "with st.form(key='form_volunteer'):\n",
        "    nama = st.text_input(\"Nama Lengkap\")\n",
        "    usia = st.number_input(\"Usia\", min_value=17, max_value=35, step=1)\n",
        "    tanggal_lahir = st.date_input(\"Tanggal Lahir\", value=datetime(2005, 1, 1))\n",
        "    divisi = st.selectbox(\"Pilih Divisi yang Diinginkan\",\n",
        "                          [\"Keamanan\", \"Dokumentasi\", \"Logistik\", \"Konsumsi\", \"Humas\", \"Tiket & Registrasi\"])\n",
        "    tombol_submit = st.form_submit_button(\"Kirim Data\")\n",
        "\n",
        "# Tindakan setelah tombol submit ditekan\n",
        "if tombol_submit:\n",
        "    st.success(\"Terima kasih! Data pendaftaran Anda berhasil disimpan.\")\n",
        "    st.markdown(\"**Berikut adalah data yang Anda isi:**\")\n",
        "    st.write(f\"- Nama Lengkap: {nama}\")\n",
        "    st.write(f\"- Usia: {usia} tahun\")\n",
        "    st.write(f\"- Tanggal Lahir: {tanggal_lahir.strftime('%d-%m-%Y')}\")\n",
        "    st.write(f\"- Divisi Pilihan: {divisi}\")\n",
        "\n",
        "# Rumus matematika syarat usia volunteer\n",
        "st.markdown(\"### Persyaratan Usia Volunteer\")\n",
        "st.latex(r'''\n",
        "17 \\leq \\text{usia} \\leq 35\n",
        "''')\n",
        "st.caption(\"Syarat usia: minimal 17 tahun dan maksimal 35 tahun.\")\n"
      ],
      "metadata": {
        "colab": {
          "base_uri": "https://localhost:8080/"
        },
        "id": "Om9q3WqX6TOR",
        "outputId": "fc8ccb51-252a-4ff7-c637-0252fe9f7005"
      },
      "execution_count": 44,
      "outputs": [
        {
          "output_type": "stream",
          "name": "stdout",
          "text": [
            "Writing pages/Tugas_Pertemuan_3.py\n"
          ]
        }
      ]
    },
    {
      "cell_type": "markdown",
      "source": [
        "# Pertemuan 4"
      ],
      "metadata": {
        "id": "y67mn-rF73Xn"
      }
    },
    {
      "cell_type": "code",
      "source": [
        "%%writefile pages/Contoh_Pertemuan_4.py\n",
        "# Menggunakan notasi objek\n",
        "import streamlit as st\n",
        "import pandas as pd\n",
        "import numpy as np\n",
        "import time\n",
        "\n",
        "# Sidebar\n",
        "pilih = st.sidebar.selectbox(\n",
        "    \"Pilihlah algoritma yang ingin digunakan\",\n",
        "    (\"SVM\", \"KKN\", \"K-Means\")\n",
        ")\n",
        "\n",
        "# Menggunakan notasi \"with\"\n",
        "with st.sidebar:\n",
        "    pilih_radio = st.radio(\n",
        "        \"Pilihlah type data\",\n",
        "        (\"Numerik\", \"Kategorik\")\n",
        "    )\n",
        "\n",
        "# Kolom untuk chart dan table\n",
        "col1, col2 = st.columns(2)\n",
        "with col1:\n",
        "    chart_data = pd.DataFrame(\n",
        "        np.random.randn(5, 3),\n",
        "        columns=['Kolom1', 'Kolom2', 'Kolom3']\n",
        "    )\n",
        "    st.table(chart_data)\n",
        "with col2:\n",
        "    chart_data = pd.DataFrame(\n",
        "        np.random.randn(5, 3),\n",
        "        columns=['Kolom1', 'Kolom2', 'Kolom3']\n",
        "    )\n",
        "    st.line_chart(chart_data)\n",
        "\n",
        "# Cara pertama menggunakan with (Container)\n",
        "with st.container():\n",
        "    st.write(\"Ini di dalam container\")\n",
        "st.write(\"Ini di luar container\")\n",
        "\n",
        "# Cara kedua menggunakan objek\n",
        "klik = st.container()\n",
        "klik.write(\"Ini adalah contoh container\")\n",
        "klik.bar_chart({\"data\": [1, 5, 2, 6, 2, 1]})\n",
        "\n",
        "# Cara pertama menggunakan with (Expander)\n",
        "with st.expander(\"Klik untuk melihat expander\"):\n",
        "    st.write('Ini adalah contoh expander')\n",
        "    st.bar_chart({\"data\": [1, 5, 2, 6, 2, 1]})\n",
        "\n",
        "# Cara kedua menggunakan objek\n",
        "klik = st.expander(\"Klik untuk melihat expander\")\n",
        "klik.write('Ini adalah contoh expander')\n",
        "klik.bar_chart({\"data\": [1, 5, 2, 6, 2, 1]})\n",
        "\n",
        "# Penggunaan Tab\n",
        "tab1, tab2 = st.tabs([\"📉Chart\", \"📑Data\"])\n",
        "data = np.random.randn(10, 1)\n",
        "tab1.subheader(\"Contoh tab dengan grafik\")\n",
        "tab1.line_chart(data)\n",
        "tab2.subheader(\"Contoh tab dengan data\")\n",
        "tab2.write(data)\n",
        "\n",
        "# Cara pertama menggunakan with (Empty)\n",
        "with st.empty():\n",
        "    for seconds in range(10):\n",
        "        st.write(f\"⌛ {seconds} detik akan selesai\")\n",
        "        time.sleep(1)\n",
        "        st.write(\"✔️ 10 detik sudah selesai\")\n",
        "\n",
        "# Cara kedua menggunakan objek\n",
        "klik = st.empty()\n",
        "for seconds in range(10):\n",
        "    klik.write(f\"⌛ {seconds} detik kedua akan selesai\")\n",
        "    time.sleep(1)\n",
        "klik.write(\"✔️ 10 detik sudah selesai\")\n",
        "\n",
        "# Membuat form dengan key tertentu\n",
        "with st.form(key='my_form'):\n",
        "    # Menambahkan input widget di dalam form\n",
        "    name = st.text_input('Enter your name:')\n",
        "    age = st.number_input('Enter your age:', min_value=1, max_value=100)\n",
        "    # Tombol submit\n",
        "    submit_button = st.form_submit_button('Submit')\n",
        "\n",
        "    # Menampilkan data jika tombol submit diklik\n",
        "    if submit_button:\n",
        "        st.write(f'Name: {name}')\n",
        "        st.write(f'Age: {age}')\n",
        "\n",
        "# Modal Dialog\n",
        "# Fungsi untuk menampilkan dialog\n",
        "if st.button(\"Tampilkan Dialog\"):\n",
        "    with st.dialog(title=\"Perhatian\"):\n",
        "        st.write(\"Ini adalah contoh penggunaan modal dialog di Streamlit.\")\n",
        "        if st.button(\"Tutup\"):\n",
        "            st.write(\"Dialog ditutup.\")"
      ],
      "metadata": {
        "colab": {
          "base_uri": "https://localhost:8080/"
        },
        "id": "qAw2R6vk8c4M",
        "outputId": "8a46bd62-72aa-40c5-9e78-1bad3930f68a"
      },
      "execution_count": 45,
      "outputs": [
        {
          "output_type": "stream",
          "name": "stdout",
          "text": [
            "Writing pages/Contoh_Pertemuan_4.py\n"
          ]
        }
      ]
    },
    {
      "cell_type": "code",
      "source": [
        "%%writefile pages/Latihan_Pertemuan_4.py\n",
        "import streamlit as st\n",
        "\n",
        "# Sidebar untuk navigasi\n",
        "st.sidebar.title(\"Registrasi E-Commerce\")\n",
        "st.sidebar.write(\"Isi data diri untuk mendaftar.\")\n",
        "username = st.sidebar.text_input(\"Username\")\n",
        "email = st.sidebar.text_input(\"Email\")\n",
        "\n",
        "# Container untuk informasi tambahan\n",
        "with st.container():\n",
        "    st.header(\"Informasi Pribadi\")\n",
        "    st.text_input(\"Nama Lengkap\")\n",
        "    st.text_input(\"Alamat\")\n",
        "\n",
        "# Expander untuk pertanyaan tambahan\n",
        "with st.expander(\"Punya pertanyaan?\"):\n",
        "    st.write(\"Tanyakan pada kami melalui form di bawah ini.\")\n",
        "\n",
        "# Pilihan jenis akun\n",
        "tabs = st.selectbox(\"Pilih jenis akun:\", [\"Pelanggan\", \"Penjual\"])\n",
        "\n",
        "# Form untuk pengisian data\n",
        "with st.form(key='registration_form'):\n",
        "    phone = st.text_input(\"Nomor Telepon\")\n",
        "    password = st.text_input(\"Password\", type=\"password\")\n",
        "    submit_button = st.form_submit_button(\"Daftar\")\n",
        "\n",
        "if submit_button:\n",
        "    st.success(f\"Selamat datang {username}!\")\n",
        "    st.write(\"Akun Anda telah berhasil dibuat.\")\n",
        "\n",
        "# Info tambahan sebagai pengganti modal dialog\n",
        "if st.button(\"Info Registrasi\"):\n",
        "    st.info(\"Pastikan data yang dimasukkan sudah benar sebelum mengirimkan formulir.\")"
      ],
      "metadata": {
        "colab": {
          "base_uri": "https://localhost:8080/"
        },
        "id": "kPDdjDew8oca",
        "outputId": "c5e86fa1-e388-4693-ed6d-ffd15cc3365b"
      },
      "execution_count": 46,
      "outputs": [
        {
          "output_type": "stream",
          "name": "stdout",
          "text": [
            "Writing pages/Latihan_Pertemuan_4.py\n"
          ]
        }
      ]
    },
    {
      "cell_type": "code",
      "source": [
        "%%writefile pages/Tugas_Pertemuan_4.py\n",
        "import streamlit as st\n",
        "\n",
        "# Sidebar untuk navigasi halaman\n",
        "st.sidebar.title(\"Navigasi\")\n",
        "st.sidebar.write(\"Silakan pilih halaman:\")\n",
        "page = st.sidebar.selectbox(\"Menu\", [\"Beranda\", \"Profil Perusahaan\", \"Formulir Pelamar\", \"Kontak\"])\n",
        "\n",
        "# Container utama\n",
        "with st.container():\n",
        "    if page == \"Beranda\":\n",
        "        st.title(\"Selamat Datang di PT Sawit Makmur Sejahtera\")\n",
        "        st.text(\"Kami adalah perusahaan yang bergerak di bidang industri kelapa sawit, dari hulu hingga hilir.\")\n",
        "        st.image(\"/content/drive/MyDrive/machine learning /kebun kelapa sawit.jpg\", caption=\"Kebun Kelapa Sawit - Ilustrasi\", use_column_width=True)\n",
        "\n",
        "    elif page == \"Profil Perusahaan\":\n",
        "        st.header(\"Tentang Perusahaan\")\n",
        "        st.markdown(\"\"\"\n",
        "        **PT Sawit Makmur Sejahtera** merupakan perusahaan agribisnis yang bergerak dalam pengelolaan dan produksi kelapa sawit berkualitas.\n",
        "\n",
        "        Visi kami adalah menjadi pemimpin dalam pengelolaan kelapa sawit berkelanjutan di Indonesia.\n",
        "\n",
        "        Kami mengelola lebih dari 10.000 hektar kebun kelapa sawit dan mempekerjakan lebih dari 1.000 tenaga kerja lokal.\n",
        "        \"\"\")\n",
        "\n",
        "    elif page == \"Formulir Pelamar\":\n",
        "        st.header(\"Formulir Pendaftaran Lowongan Kerja\")\n",
        "        st.text(\"Silakan isi data diri Anda dengan lengkap untuk melamar pekerjaan di PT Sawit Makmur Sejahtera.\")\n",
        "\n",
        "        nama = st.text_input(\"Nama Lengkap\")\n",
        "        usia = st.number_input(\"Usia\", min_value=18, max_value=60, step=1)\n",
        "        pendidikan = st.selectbox(\"Pendidikan Terakhir\", [\"SMA/SMK\", \"D3\", \"S1\", \"S2\"])\n",
        "        posisi = st.selectbox(\"Posisi yang Dilamar\", [\"Operator Kebun\", \"Teknisi Mesin\", \"Staf Administrasi\", \"Keuangan\", \"Quality Control\"])\n",
        "        pengalaman = st.text_area(\"Pengalaman Kerja (jika ada)\")\n",
        "        file_cv = st.file_uploader(\"Unggah CV (PDF/DOCX)\", type=[\"pdf\", \"docx\"])\n",
        "\n",
        "        if st.button(\"Kirim Lamaran\"):\n",
        "            if nama and file_cv:\n",
        "                st.success(f\"Terima kasih, {nama}. Lamaran Anda telah dikirim!\")\n",
        "            else:\n",
        "                st.warning(\"Silakan lengkapi data dan unggah CV terlebih dahulu.\")\n",
        "\n",
        "    elif page == \"Kontak\":\n",
        "        st.header(\"Hubungi Kami\")\n",
        "        st.markdown(\"\"\"\n",
        "        **Alamat Kantor:**\n",
        "        Jl. Perkebunan No. 123, Pekanbaru, Riau\n",
        "        **Email:** info@sawitmakmur.co.id\n",
        "        **Telepon:** +62 761 123 456\n",
        "        **Instagram:** [@sawitmakmur](https://instagram.com/sawitmakmur)\n",
        "        \"\"\")\n"
      ],
      "metadata": {
        "colab": {
          "base_uri": "https://localhost:8080/"
        },
        "id": "j7WxBewb8o8H",
        "outputId": "1d5a5711-38c5-4e2a-bddc-87d3e0c2d6c7"
      },
      "execution_count": 47,
      "outputs": [
        {
          "output_type": "stream",
          "name": "stdout",
          "text": [
            "Writing pages/Tugas_Pertemuan_4.py\n"
          ]
        }
      ]
    },
    {
      "cell_type": "markdown",
      "source": [
        "# Pertemuan 5"
      ],
      "metadata": {
        "id": "IGMoxeUQ-Vea"
      }
    },
    {
      "cell_type": "code",
      "source": [
        "%%writefile pages/Contoh_Pertemuan_5.py\n",
        "# Import pustaka yang diperlukan\n",
        "import streamlit as st\n",
        "import pandas as pd\n",
        "import numpy as np\n",
        "\n",
        "# Membuat DataFrame\n",
        "data = {\n",
        "    'Name': ['Alice', 'Bob', 'Charlie'],\n",
        "    'Age': [25, 30, 35],\n",
        "    'City': ['New York', 'Los Angeles', 'Chicago']\n",
        "}\n",
        "df = pd.DataFrame(data)\n",
        "\n",
        "# Menampilkan DataFrame dengan st.dataframe()\n",
        "st.write(\"Menampilkan DataFrame dengan st.dataframe()\")\n",
        "st.dataframe(df, width=700, height=300)\n",
        "\n",
        "# Menampilkan tabel menggunakan st.table()\n",
        "st.write(\"Menampilkan tabel menggunakan st.table()\")\n",
        "st.table(df)\n",
        "\n",
        "# Menampilkan tabel menggunakan st.metric()\n",
        "st.write(\"Menampilkan tabel menggunakan Metric\")\n",
        "df_metric = pd.DataFrame(np.random.randn(10, 5), columns=(\"col %d\" % i for i in range(5)))\n",
        "st.table(df_metric)\n",
        "\n",
        "# Menampilkan editor data\n",
        "st.write(\"Menampilkan tabel dengan editor data\")\n",
        "edited_df = st.data_editor(df, use_container_width=True)\n",
        "\n",
        "# Menampilkan data yang telah diedit\n",
        "st.write(\"Edited DataFrame:\")\n",
        "st.write(edited_df)\n",
        "\n",
        "# Data JSON\n",
        "st.write(\"Menampilkan data json\")\n",
        "data_json = {\n",
        "    \"name\": \"Alice\",\n",
        "    \"age\": 25,\n",
        "    \"city\": \"New York\",\n",
        "    \"employed\": True\n",
        "}\n",
        "# Menampilkan data JSON menggunakan st.json()\n",
        "st.json(data_json)\n",
        "\n",
        "# Menampilkan tabel dengan editor data untuk column config\n",
        "st.write(\"Menampilkan tabel dengan editor data untuk column config\")\n",
        "# Konfigurasi kolom menggunakan st.column_config\n",
        "df = st.data_editor(\n",
        "    df,\n",
        "    column_config={\n",
        "        'Age': st.column_config.NumberColumn(format=\"%.0f\"),  # Format angka tanpa desimal\n",
        "        'City': st.column_config.SelectboxColumn(options=[\"New York\", \"Los Angeles\", \"Chicago\"]),  # Pilihan untuk kolom City\n",
        "        'Employed': st.column_config.CheckboxColumn(),  # Kolom checkbox untuk status pekerjaan\n",
        "    }\n",
        ")\n",
        "\n",
        "# Menampilkan hasil edit data\n",
        "st.write(\"Edited DataFrame:\")\n",
        "st.write(df)"
      ],
      "metadata": {
        "colab": {
          "base_uri": "https://localhost:8080/"
        },
        "id": "EfT9Uwur-fgs",
        "outputId": "a9877083-4c0e-4745-e815-69eb0d482a48"
      },
      "execution_count": 48,
      "outputs": [
        {
          "output_type": "stream",
          "name": "stdout",
          "text": [
            "Writing pages/Contoh_Pertemuan_5.py\n"
          ]
        }
      ]
    },
    {
      "cell_type": "code",
      "source": [
        "#Download dulu datasetnya, linknya ada di slide\n",
        "import pandas as pd\n",
        "df = pd.read_csv('/content/drive/MyDrive/machine learning /Iris.csv') #simpen file di drive"
      ],
      "metadata": {
        "id": "p_6zv0yf-gDi"
      },
      "execution_count": 49,
      "outputs": []
    },
    {
      "cell_type": "code",
      "source": [
        "df.info()"
      ],
      "metadata": {
        "colab": {
          "base_uri": "https://localhost:8080/"
        },
        "id": "5TLLWOGh_ZtV",
        "outputId": "3e4af990-acf3-4c3f-abce-f3436a85bb29"
      },
      "execution_count": 50,
      "outputs": [
        {
          "output_type": "stream",
          "name": "stdout",
          "text": [
            "<class 'pandas.core.frame.DataFrame'>\n",
            "RangeIndex: 150 entries, 0 to 149\n",
            "Data columns (total 6 columns):\n",
            " #   Column         Non-Null Count  Dtype  \n",
            "---  ------         --------------  -----  \n",
            " 0   Id             150 non-null    int64  \n",
            " 1   SepalLengthCm  150 non-null    float64\n",
            " 2   SepalWidthCm   150 non-null    float64\n",
            " 3   PetalLengthCm  150 non-null    float64\n",
            " 4   PetalWidthCm   150 non-null    float64\n",
            " 5   Species        150 non-null    object \n",
            "dtypes: float64(4), int64(1), object(1)\n",
            "memory usage: 7.2+ KB\n"
          ]
        }
      ]
    },
    {
      "cell_type": "code",
      "source": [
        "%%writefile pages/Latihan_Pertemuan_5.py\n",
        "import streamlit as st\n",
        "import pandas as pd\n",
        "\n",
        "# Membaca data CSV\n",
        "file_path = '/content/drive/MyDrive/machine learning /Iris.csv'  # Ganti path ini\n",
        "df = pd.read_csv(file_path)\n",
        "\n",
        "# Menyiapkan tab\n",
        "tabs = st.tabs([\"Tabel\", \"Metrik\", \"JSON\"])\n",
        "\n",
        "# Tab 1 - Tabel\n",
        "with tabs[0]:\n",
        "    st.header(\"Tabel Iris Dataset\")\n",
        "    st.dataframe(df)  # Lebih interaktif daripada st.table\n",
        "\n",
        "# Tab 2 - Metrik\n",
        "with tabs[1]:\n",
        "    st.header(\"Metrik Iris Dataset\")\n",
        "\n",
        "    # Metrik 1: Rata-rata Sepal Length\n",
        "    avg_sepal_length = df['SepalLengthCm'].mean()\n",
        "    st.metric(label=\"Rata-rata Sepal Length\", value=f\"{avg_sepal_length:.2f} cm\")\n",
        "\n",
        "    # Metrik 2: Rata-rata Petal Length\n",
        "    avg_petal_length = df['PetalLengthCm'].mean()\n",
        "    st.metric(label=\"Rata-rata Petal Length\", value=f\"{avg_petal_length:.2f} cm\")\n",
        "\n",
        "    # Metrik 3: Jumlah Spesies\n",
        "    species_count = df['Species'].nunique()\n",
        "    st.metric(label=\"Jumlah Spesies\", value=f\"{species_count} spesies\")\n",
        "\n",
        "# Tab 3 - JSON\n",
        "with tabs[2]:\n",
        "    st.header(\"Data Iris dalam Format JSON\")\n",
        "    st.json(df.to_dict(orient='records'))"
      ],
      "metadata": {
        "colab": {
          "base_uri": "https://localhost:8080/"
        },
        "id": "wCp3bTi6_beD",
        "outputId": "f0d0afde-77a5-455e-8827-c68e60296448"
      },
      "execution_count": 51,
      "outputs": [
        {
          "output_type": "stream",
          "name": "stdout",
          "text": [
            "Writing pages/Latihan_Pertemuan_5.py\n"
          ]
        }
      ]
    },
    {
      "cell_type": "code",
      "source": [
        "#Download dulu datasetnya, linknya ada di slide\n",
        "df = pd.read_csv('/content/drive/MyDrive/machine learning /nutrition.csv') #simpen file di drive"
      ],
      "metadata": {
        "id": "age4bKVzAA7c"
      },
      "execution_count": 52,
      "outputs": []
    },
    {
      "cell_type": "code",
      "source": [
        "df.info()"
      ],
      "metadata": {
        "colab": {
          "base_uri": "https://localhost:8080/"
        },
        "id": "8Kgua5wNBWTM",
        "outputId": "45dbbb0e-274e-4af8-9be0-689d6ef7c9ff"
      },
      "execution_count": 53,
      "outputs": [
        {
          "output_type": "stream",
          "name": "stdout",
          "text": [
            "<class 'pandas.core.frame.DataFrame'>\n",
            "RangeIndex: 1346 entries, 0 to 1345\n",
            "Data columns (total 7 columns):\n",
            " #   Column        Non-Null Count  Dtype  \n",
            "---  ------        --------------  -----  \n",
            " 0   id            1346 non-null   int64  \n",
            " 1   calories      1346 non-null   float64\n",
            " 2   proteins      1346 non-null   float64\n",
            " 3   fat           1346 non-null   float64\n",
            " 4   carbohydrate  1346 non-null   float64\n",
            " 5   name          1346 non-null   object \n",
            " 6   image         1346 non-null   object \n",
            "dtypes: float64(4), int64(1), object(2)\n",
            "memory usage: 73.7+ KB\n"
          ]
        }
      ]
    },
    {
      "cell_type": "code",
      "source": [
        "%%writefile pages/Tugas_Pertemuan_5.py\n",
        "import streamlit as st\n",
        "import pandas as pd\n",
        "\n",
        "\n",
        "# Membaca data CSV\n",
        "file_path = '/content/drive/MyDrive/machine learning /nutrition.csv'\n",
        "df = pd.read_csv(file_path)\n",
        "\n",
        "\n",
        "# Judul aplikasi\n",
        "st.title(\"Analisis Data Nutrisi Makanan & Minuman Indonesia\")\n",
        "\n",
        "# File CSV (pastikan path disesuaikan)\n",
        "file_path = \"/content/drive/MyDrive/machine learning /nutrition.csv\"  # ganti dengan path lokal jika perlu\n",
        "df = pd.read_csv(file_path)\n",
        "\n",
        "# Tabs utama aplikasi\n",
        "tab1, tab2, tab3 = st.tabs([\"📊 Lihat Tabel\", \"📈 Statistik Metrik\", \"🧾 Format JSON\"])\n",
        "\n",
        "# === Tab 1: Tabel ===\n",
        "with tab1:\n",
        "    st.subheader(\"📋 Data Lengkap Nutrisi\")\n",
        "    st.write(\"Berikut adalah data nutrisi berbagai makanan dan minuman Indonesia:\")\n",
        "    st.dataframe(df.style.set_properties(**{'background-color': '#f0f0f0'}, subset=[\"name\"]))\n",
        "\n",
        "# === Tab 2: Metrik ===\n",
        "with tab2:\n",
        "    st.subheader(\"📊 Rata-Rata Nilai Gizi\")\n",
        "\n",
        "    col1, col2, col3, col4 = st.columns(4)\n",
        "\n",
        "    with col1:\n",
        "        st.metric(\"Kalori\", f\"{df['calories'].mean():.1f} kkal\")\n",
        "\n",
        "    with col2:\n",
        "        st.metric(\"Protein\", f\"{df['proteins'].mean():.1f} g\")\n",
        "\n",
        "    with col3:\n",
        "        st.metric(\"Lemak\", f\"{df['fat'].mean():.1f} g\")\n",
        "\n",
        "    with col4:\n",
        "        st.metric(\"Karbohidrat\", f\"{df['carbohydrate'].mean():.1f} g\")\n",
        "\n",
        "    st.caption(\"Nilai di atas adalah hasil rata-rata dari seluruh item makanan dan minuman yang terdapat pada dataset.\")\n",
        "\n",
        "# === Tab 3: JSON ===\n",
        "with tab3:\n",
        "    st.subheader(\"🧾 Representasi JSON\")\n",
        "    st.write(\"Data di bawah ini adalah hasil konversi DataFrame ke format JSON:\")\n",
        "\n",
        "    # Tampilkan hanya 10 item pertama agar tidak terlalu panjang\n",
        "    st.json(df.head(10).to_dict(orient='records'))\n",
        "    st.caption(\"Menampilkan 10 data pertama dalam format JSON.\")\n"
      ],
      "metadata": {
        "colab": {
          "base_uri": "https://localhost:8080/"
        },
        "id": "ZpaTlQ7-BWnR",
        "outputId": "33b33f81-7323-4c13-e3ad-5348086d094d"
      },
      "execution_count": 54,
      "outputs": [
        {
          "output_type": "stream",
          "name": "stdout",
          "text": [
            "Writing pages/Tugas_Pertemuan_5.py\n"
          ]
        }
      ]
    },
    {
      "cell_type": "markdown",
      "source": [
        "# Pertemuan 6"
      ],
      "metadata": {
        "id": "Ojf1l-yhCe0M"
      }
    },
    {
      "cell_type": "code",
      "source": [
        "%%writefile pages/Contoh_Pertemuan_6.py\n",
        "import streamlit as st\n",
        "import pandas as pd\n",
        "\n",
        "# Membuat data contoh\n",
        "data = pd.DataFrame({\n",
        "    'Tahun': [2020,2021,2022,2023],\n",
        "    'Pendapatan': [100, 150, 200, 250]\n",
        "})\n",
        "\n",
        "# Menampilkan grafik area\n",
        "st.area_chart(data.set_index('Tahun'))\n",
        "\n",
        "# Menampilkan grafik garis\n",
        "st.line_chart(data.set_index('Tahun'))\n",
        "\n",
        "# Menampilkan grafik batang\n",
        "st.bar_chart(data.set_index('Tahun'))\n",
        "\n",
        "data2 = pd.DataFrame({\n",
        "    'X': [1,2,3,4,5],\n",
        "    'Y': [2,3,5,7,11]\n",
        "})\n",
        "# Menampilkan grafik sebar\n",
        "st.scatter_chart(data2)\n",
        "\n",
        "# Membuat data koordinat contoh\n",
        "data3 = pd.DataFrame({\n",
        "    'latitude': [40.7128, 34.0522, 51.5074],\n",
        "    'longitude': [-74.0060, -118.2437, -0.1278]\n",
        "})\n",
        "\n",
        "# Menampilkan peta\n",
        "st.map(data3)"
      ],
      "metadata": {
        "colab": {
          "base_uri": "https://localhost:8080/"
        },
        "id": "dq5oAcegCif2",
        "outputId": "e8e22ac3-b4ae-4af1-ca32-45dba7088085"
      },
      "execution_count": 55,
      "outputs": [
        {
          "output_type": "stream",
          "name": "stdout",
          "text": [
            "Writing pages/Contoh_Pertemuan_6.py\n"
          ]
        }
      ]
    },
    {
      "cell_type": "code",
      "source": [
        "%%writefile pages/Latihan_Pertemuan_6.py\n",
        "import streamlit as st\n",
        "import pandas as pd\n",
        "import matplotlib.pyplot as plt\n",
        "import plotly.express as px\n",
        "import seaborn as sns\n",
        "\n",
        "# Load dataset\n",
        "df = pd.read_csv('/content/drive/MyDrive/machine learning /Iris.csv')\n",
        "\n",
        "# Judul aplikasi\n",
        "st.title(\"Visualisasi Data Iris dengan Tab Interaktif\")\n",
        "st.markdown(\"Visualisasi berbagai jenis grafik berdasarkan dataset Iris\")\n",
        "\n",
        "# Membuat 5 tab\n",
        "tab1, tab2, tab3, tab4, tab5 = st.tabs([\"Grafik Area\", \"Grafik Garis\", \"Grafik Batang\", \"Grafik Scatter\", \"Peta\"])\n",
        "\n",
        "with tab1:\n",
        "    st.header(\"Grafik Area: Panjang dan Lebar Sepal\")\n",
        "    fig_area = px.area(df, x='Id', y=['SepalLengthCm', 'SepalWidthCm'], title='Area Chart Sepal')\n",
        "    st.plotly_chart(fig_area, use_container_width=True)\n",
        "\n",
        "with tab2:\n",
        "    st.header(\"Grafik Garis: Petal Length dan Width\")\n",
        "    fig_line = px.line(df, x='Id', y=['PetalLengthCm', 'PetalWidthCm'], color='Species', title='Line Chart Petal per Spesies')\n",
        "    st.plotly_chart(fig_line, use_container_width=True)\n",
        "\n",
        "with tab3:\n",
        "    st.header(\"Grafik Batang: Rata-rata Ukuran Sepal per Spesies\")\n",
        "    avg_sepal = df.groupby('Species')[['SepalLengthCm', 'SepalWidthCm']].mean().reset_index()\n",
        "    fig_bar = px.bar(avg_sepal, x='Species', y=['SepalLengthCm', 'SepalWidthCm'], barmode='group',\n",
        "                     title=\"Rata-rata Sepal per Spesies\")\n",
        "    st.plotly_chart(fig_bar, use_container_width=True)\n",
        "\n",
        "with tab4:\n",
        "    st.header(\"Grafik Scatter: Petal Length vs Width\")\n",
        "    fig_scatter = px.scatter(df, x='PetalLengthCm', y='PetalWidthCm', color='Species', symbol='Species',\n",
        "                             title=\"Scatter Plot Petal\", size='SepalLengthCm')\n",
        "    st.plotly_chart(fig_scatter, use_container_width=True)\n",
        "\n",
        "with tab5:\n",
        "    st.header(\"Peta: Simulasi Peta Spesies (Dummy Coordinates)\")\n",
        "    # Karena dataset tidak memiliki koordinat, kita buat dummy data\n",
        "    import numpy as np\n",
        "    df['Latitude'] = np.random.uniform(low=-6.2, high=-6.0, size=len(df))\n",
        "    df['Longitude'] = np.random.uniform(low=106.7, high=107.0, size=len(df))\n",
        "\n",
        "    fig_map = px.scatter_mapbox(df, lat='Latitude', lon='Longitude', color='Species', zoom=9,\n",
        "                                mapbox_style=\"carto-positron\", title=\"Sebaran Dummy Spesies di Peta\")\n",
        "    st.plotly_chart(fig_map, use_container_width=True)"
      ],
      "metadata": {
        "colab": {
          "base_uri": "https://localhost:8080/"
        },
        "id": "cj479y1ADBm_",
        "outputId": "ce622185-a1b3-4ec6-ee42-e147feb8e2ed"
      },
      "execution_count": 56,
      "outputs": [
        {
          "output_type": "stream",
          "name": "stdout",
          "text": [
            "Writing pages/Latihan_Pertemuan_6.py\n"
          ]
        }
      ]
    },
    {
      "cell_type": "code",
      "source": [
        "%%writefile pages/Tugas_Pertemuan_6.py\n",
        "import streamlit as st\n",
        "import pandas as pd\n",
        "import plotly.express as px\n",
        "\n",
        "# Judul aplikasi\n",
        "st.title(\"Visualisasi Data Nutrisi Makanan & Minuman Indonesia\")\n",
        "\n",
        "# Membaca dataset\n",
        "file_path = \"/content/drive/MyDrive/machine learning /nutrition.csv\"  # Ganti dengan path dataset kamu\n",
        "df = pd.read_csv(file_path)\n",
        "\n",
        "# Validasi kolom numerik\n",
        "numeric_cols = ['calories', 'proteins', 'fat', 'carbohydrate']\n",
        "data_nutrition = df[numeric_cols].copy()\n",
        "\n",
        "# Membuat tab\n",
        "tab1, tab2, tab3, tab4, tab5 = st.tabs([\"📈 Area\", \"📉 Garis\", \"📊 Batang\", \"🔘 Scatter\", \"🗺️ Peta\"])\n",
        "\n",
        "# --- Grafik Area ---\n",
        "with tab1:\n",
        "    st.subheader(\"Grafik Area\")\n",
        "    st.area_chart(data_nutrition)\n",
        "    st.caption(\"Menampilkan tren nilai nutrisi dengan grafik area.\")\n",
        "\n",
        "# --- Grafik Garis ---\n",
        "with tab2:\n",
        "    st.subheader(\"Grafik Garis\")\n",
        "    st.line_chart(data_nutrition)\n",
        "    st.caption(\"Visualisasi nutrisi dalam bentuk garis untuk melihat pola dan fluktuasi.\")\n",
        "\n",
        "# --- Grafik Batang ---\n",
        "with tab3:\n",
        "    st.subheader(\"Grafik Batang\")\n",
        "    st.bar_chart(data_nutrition)\n",
        "    st.caption(\"Perbandingan nilai nutrisi antar makanan/minuman.\")\n",
        "\n",
        "# --- Grafik Scatter ---\n",
        "with tab4:\n",
        "    st.subheader(\"Grafik Scatter Plot\")\n",
        "\n",
        "    x_opt = st.selectbox(\"Pilih sumbu X\", numeric_cols, index=0)\n",
        "    y_opt = st.selectbox(\"Pilih sumbu Y\", numeric_cols, index=1)\n",
        "\n",
        "    scatter_fig = px.scatter(df, x=x_opt, y=y_opt, hover_name=\"name\",\n",
        "                             title=f'Scatter Plot: {x_opt} vs {y_opt}',\n",
        "                             labels={x_opt: x_opt.capitalize(), y_opt: y_opt.capitalize()},\n",
        "                             size='calories' if 'calories' in df.columns else None)\n",
        "\n",
        "    st.plotly_chart(scatter_fig)\n",
        "    st.caption(\"Gunakan scatter plot untuk melihat hubungan antar variabel numerik.\")\n",
        "\n",
        "# --- Peta ---\n",
        "with tab5:\n",
        "    st.subheader(\"Peta Lokasi Makanan/Minuman\")\n",
        "\n",
        "    if 'latitude' in df.columns and 'longitude' in df.columns:\n",
        "        map_df = df[['latitude', 'longitude', 'name']].dropna()\n",
        "        st.map(map_df)\n",
        "        st.caption(\"Peta lokasi makanan/minuman berdasarkan data latitude dan longitude.\")\n",
        "    else:\n",
        "        st.warning(\"Data tidak memiliki kolom lokasi (latitude & longitude).\")\n"
      ],
      "metadata": {
        "colab": {
          "base_uri": "https://localhost:8080/"
        },
        "id": "yyU-hMjfDRIv",
        "outputId": "76eaa2de-c565-4ee1-87bc-049fb32a7fc5"
      },
      "execution_count": 57,
      "outputs": [
        {
          "output_type": "stream",
          "name": "stdout",
          "text": [
            "Writing pages/Tugas_Pertemuan_6.py\n"
          ]
        }
      ]
    },
    {
      "cell_type": "markdown",
      "source": [
        "# Pertemuan 7"
      ],
      "metadata": {
        "id": "idM1ZT8DEUWL"
      }
    },
    {
      "cell_type": "code",
      "source": [
        "%%writefile pages/Latihan_Pertemuan_7.py\n",
        "import streamlit as st\n",
        "import pandas as pd\n",
        "import matplotlib.pyplot as plt\n",
        "import seaborn as sns\n",
        "\n",
        "# Membaca data dari file CSV\n",
        "df = pd.read_csv('/content/drive/MyDrive/machine learning /nutrition.csv')\n",
        "\n",
        "# Judul aplikasi\n",
        "st.title('Dashboard Nutrisi')\n",
        "\n",
        "# Sidebar Navigasi\n",
        "tabs = st.sidebar.radio(\"Pilih Tab\", [\"Tabel\", \"Grafik\", \"Metric\", \"Grafik Distribusi\"])\n",
        "\n",
        "# Tab Tabel\n",
        "if tabs == \"Tabel\":\n",
        "    st.header(\"Tabel Data Nutrisi\")\n",
        "    st.write(df)\n",
        "\n",
        "# Tab Grafik\n",
        "elif tabs == \"Grafik\":\n",
        "    st.header(\"Grafik Nutrisi\")\n",
        "    nutrisi = ['calories', 'proteins', 'fat', 'carbohydrate']\n",
        "    st.subheader(\"Grafik Bar Rata-rata Nutrisi\")\n",
        "    fig, ax = plt.subplots(figsize=(10, 6))\n",
        "    df[nutrisi].mean().plot(kind='bar', ax=ax, color='skyblue')\n",
        "    ax.set_title('Rata-rata Nilai Nutrisi')\n",
        "    ax.set_xlabel('Jenis Nutrisi')\n",
        "    ax.set_ylabel('Rata-rata')\n",
        "    st.pyplot(fig)\n",
        "\n",
        "# Tab Metric\n",
        "elif tabs == \"Metric\":\n",
        "    st.header(\"Indikator Nutrisi\")\n",
        "    st.subheader(\"Rata-rata Nilai Nutrisi\")\n",
        "    st.metric(\"Kalori Rata-rata\", f\"{df['calories'].mean():.2f} kcal\")\n",
        "    st.metric(\"Lemak Rata-rata\", f\"{df['fat'].mean():.2f} g\")\n",
        "    st.metric(\"Karbohidrat Rata-rata\", f\"{df['carbohydrate'].mean():.2f} g\")\n",
        "    st.metric(\"Protein Rata-rata\", f\"{df['proteins'].mean():.2f} g\")\n",
        "\n",
        "# Tab Grafik Distribusi\n",
        "elif tabs == \"Grafik Distribusi\":\n",
        "    st.header(\"Distribusi Nutrisi\")\n",
        "    st.subheader(\"Distribusi Kalori\")\n",
        "    fig, ax = plt.subplots(figsize=(10, 6))\n",
        "    sns.histplot(df['calories'], kde=True, ax=ax, color='purple')\n",
        "    ax.set_title('Distribusi Kalori')\n",
        "    ax.set_xlabel('Kalori')\n",
        "    ax.set_ylabel('Frekuensi')\n",
        "    st.pyplot(fig)"
      ],
      "metadata": {
        "colab": {
          "base_uri": "https://localhost:8080/"
        },
        "id": "rQmA4o69EXqg",
        "outputId": "0b714b59-f0fa-422e-8d53-be8cdf348a46"
      },
      "execution_count": 58,
      "outputs": [
        {
          "output_type": "stream",
          "name": "stdout",
          "text": [
            "Writing pages/Latihan_Pertemuan_7.py\n"
          ]
        }
      ]
    },
    {
      "cell_type": "code",
      "source": [
        "#Cari dataset untuk Tugas 7 dari repositori publik, download, upload ke drive, import.\n",
        "import pandas as pd\n",
        "data = pd.read_csv('/content/drive/MyDrive/machine learning /Mental Health.csv')"
      ],
      "metadata": {
        "id": "VipDudlnFOZe"
      },
      "execution_count": 59,
      "outputs": []
    },
    {
      "cell_type": "code",
      "source": [
        "#Cek dulu fitur-fitur dari datasetnya, sesuaikan dgn script di sel %%writefile pages/Tugas_Pertemuan_7.py\n",
        "data.info()"
      ],
      "metadata": {
        "colab": {
          "base_uri": "https://localhost:8080/"
        },
        "id": "q0G6C94fHYQF",
        "outputId": "4d6ff66f-1620-48c4-e736-0829724a590f"
      },
      "execution_count": 60,
      "outputs": [
        {
          "output_type": "stream",
          "name": "stdout",
          "text": [
            "<class 'pandas.core.frame.DataFrame'>\n",
            "RangeIndex: 1259 entries, 0 to 1258\n",
            "Data columns (total 27 columns):\n",
            " #   Column                     Non-Null Count  Dtype \n",
            "---  ------                     --------------  ----- \n",
            " 0   Timestamp                  1259 non-null   object\n",
            " 1   Age                        1259 non-null   int64 \n",
            " 2   Gender                     1259 non-null   object\n",
            " 3   Country                    1259 non-null   object\n",
            " 4   state                      744 non-null    object\n",
            " 5   self_employed              1241 non-null   object\n",
            " 6   family_history             1259 non-null   object\n",
            " 7   treatment                  1259 non-null   object\n",
            " 8   work_interfere             995 non-null    object\n",
            " 9   no_employees               1259 non-null   object\n",
            " 10  remote_work                1259 non-null   object\n",
            " 11  tech_company               1259 non-null   object\n",
            " 12  benefits                   1259 non-null   object\n",
            " 13  care_options               1259 non-null   object\n",
            " 14  wellness_program           1259 non-null   object\n",
            " 15  seek_help                  1259 non-null   object\n",
            " 16  anonymity                  1259 non-null   object\n",
            " 17  leave                      1259 non-null   object\n",
            " 18  mental_health_consequence  1259 non-null   object\n",
            " 19  phys_health_consequence    1259 non-null   object\n",
            " 20  coworkers                  1259 non-null   object\n",
            " 21  supervisor                 1259 non-null   object\n",
            " 22  mental_health_interview    1259 non-null   object\n",
            " 23  phys_health_interview      1259 non-null   object\n",
            " 24  mental_vs_physical         1259 non-null   object\n",
            " 25  obs_consequence            1259 non-null   object\n",
            " 26  comments                   164 non-null    object\n",
            "dtypes: int64(1), object(26)\n",
            "memory usage: 265.7+ KB\n"
          ]
        }
      ]
    },
    {
      "cell_type": "code",
      "source": [
        "!pip install altair\n",
        "!pip install plotly"
      ],
      "metadata": {
        "colab": {
          "base_uri": "https://localhost:8080/"
        },
        "id": "grFS3bGCHbOf",
        "outputId": "bcb1449b-2294-4836-85e5-970f0f947c58"
      },
      "execution_count": 61,
      "outputs": [
        {
          "output_type": "stream",
          "name": "stdout",
          "text": [
            "Requirement already satisfied: altair in /usr/local/lib/python3.11/dist-packages (5.5.0)\n",
            "Requirement already satisfied: jinja2 in /usr/local/lib/python3.11/dist-packages (from altair) (3.1.6)\n",
            "Requirement already satisfied: jsonschema>=3.0 in /usr/local/lib/python3.11/dist-packages (from altair) (4.23.0)\n",
            "Requirement already satisfied: narwhals>=1.14.2 in /usr/local/lib/python3.11/dist-packages (from altair) (1.40.0)\n",
            "Requirement already satisfied: packaging in /usr/local/lib/python3.11/dist-packages (from altair) (24.2)\n",
            "Requirement already satisfied: typing-extensions>=4.10.0 in /usr/local/lib/python3.11/dist-packages (from altair) (4.13.2)\n",
            "Requirement already satisfied: attrs>=22.2.0 in /usr/local/lib/python3.11/dist-packages (from jsonschema>=3.0->altair) (25.3.0)\n",
            "Requirement already satisfied: jsonschema-specifications>=2023.03.6 in /usr/local/lib/python3.11/dist-packages (from jsonschema>=3.0->altair) (2025.4.1)\n",
            "Requirement already satisfied: referencing>=0.28.4 in /usr/local/lib/python3.11/dist-packages (from jsonschema>=3.0->altair) (0.36.2)\n",
            "Requirement already satisfied: rpds-py>=0.7.1 in /usr/local/lib/python3.11/dist-packages (from jsonschema>=3.0->altair) (0.25.1)\n",
            "Requirement already satisfied: MarkupSafe>=2.0 in /usr/local/lib/python3.11/dist-packages (from jinja2->altair) (3.0.2)\n",
            "Requirement already satisfied: plotly in /usr/local/lib/python3.11/dist-packages (5.24.1)\n",
            "Requirement already satisfied: tenacity>=6.2.0 in /usr/local/lib/python3.11/dist-packages (from plotly) (9.1.2)\n",
            "Requirement already satisfied: packaging in /usr/local/lib/python3.11/dist-packages (from plotly) (24.2)\n"
          ]
        }
      ]
    },
    {
      "cell_type": "code",
      "source": [
        "%%writefile pages/Tugas_Pertemuan_7.py\n",
        "import streamlit as st\n",
        "import pandas as pd\n",
        "import matplotlib.pyplot as plt\n",
        "import seaborn as sns\n",
        "import plotly.express as px\n",
        "\n",
        "# Konfigurasi halaman\n",
        "st.set_page_config(layout=\"wide\")\n",
        "\n",
        "# Judul\n",
        "st.title(\"🧠 Dashboard Kesehatan Mental\")\n",
        "st.markdown(\"Analisis Data Kesehatan Mental di Tempat Kerja\")\n",
        "\n",
        "# Load data\n",
        "file_path = '/content/drive/MyDrive/machine learning /Mental Health.csv'\n",
        "try:\n",
        "    df = pd.read_csv(file_path)\n",
        "except FileNotFoundError:\n",
        "    st.error(f\"Gagal memuat data dari {file_path}. Pastikan file tersedia.\")\n",
        "    st.stop()\n",
        "\n",
        "# Pembersihan Data Sederhana\n",
        "df.columns = df.columns.str.strip()  # Hilangkan spasi di nama kolom\n",
        "df = df.dropna(subset=['Age', 'Gender', 'Country'])  # Hapus baris dengan kolom penting kosong\n",
        "\n",
        "# Sidebar - Filter\n",
        "st.sidebar.header(\"📌 Filter Data\")\n",
        "\n",
        "countries = df['Country'].unique().tolist()\n",
        "selected_countries = st.sidebar.multiselect(\"Pilih Negara\", countries, default=countries)\n",
        "\n",
        "genders = df['Gender'].unique().tolist()\n",
        "selected_genders = st.sidebar.multiselect(\"Pilih Gender\", genders, default=genders)\n",
        "\n",
        "df_filtered = df[\n",
        "    (df['Country'].isin(selected_countries)) &\n",
        "    (df['Gender'].isin(selected_genders))\n",
        "]\n",
        "\n",
        "st.write(\"### 📄 Data Tersaring\")\n",
        "st.dataframe(df_filtered)\n",
        "\n",
        "# Grafik 1: Distribusi Usia\n",
        "st.subheader(\"📊 Distribusi Usia Responden\")\n",
        "fig1, ax1 = plt.subplots(figsize=(10, 4))\n",
        "sns.histplot(df_filtered['Age'], bins=30, kde=True, color='purple', ax=ax1)\n",
        "ax1.set_xlabel(\"Usia\")\n",
        "ax1.set_ylabel(\"Jumlah Responden\")\n",
        "st.pyplot(fig1)\n",
        "\n",
        "# Grafik 2: Status Kesehatan Mental\n",
        "st.subheader(\"🧠 Apakah Responden Pernah Mengalami Masalah Kesehatan Mental?\")\n",
        "if 'mental_health_consequence' in df_filtered.columns:\n",
        "    fig2 = px.histogram(df_filtered, x='mental_health_consequence', color='Gender', barmode='group',\n",
        "                        title=\"Konsekuensi Masalah Kesehatan Mental\")\n",
        "    st.plotly_chart(fig2, use_container_width=True)\n",
        "\n",
        "# Grafik 3: Perusahaan Menyediakan Sumber Daya Kesehatan Mental\n",
        "st.subheader(\"🏢 Dukungan Perusahaan terhadap Kesehatan Mental\")\n",
        "if 'wellness_program' in df_filtered.columns:\n",
        "    wellness_count = df_filtered['wellness_program'].value_counts()\n",
        "    fig3 = px.pie(values=wellness_count.values, names=wellness_count.index,\n",
        "                  title=\"Apakah Perusahaan Menyediakan Program Kesehatan?\")\n",
        "    st.plotly_chart(fig3, use_container_width=True)\n",
        "\n",
        "# Grafik 4: Korelasi Gender dengan Seeking Help\n",
        "st.subheader(\"🔍 Korelasi Gender dan Kemauan Mencari Bantuan\")\n",
        "if 'seek_help' in df_filtered.columns:\n",
        "    fig4 = px.histogram(df_filtered, x='seek_help', color='Gender', barmode='group',\n",
        "                        title=\"Apakah Karyawan Akan Mencari Bantuan Jika Dibutuhkan?\")\n",
        "    st.plotly_chart(fig4, use_container_width=True)\n",
        "\n",
        "# Grafik 5: Status Self-employed dan Mental Illness\n",
        "st.subheader(\"📌 Status Wirausaha dan Kesehatan Mental\")\n",
        "if 'self_employed' in df_filtered.columns and 'mental_health_interview' in df_filtered.columns:\n",
        "    fig5 = px.sunburst(df_filtered, path=['self_employed', 'mental_health_interview'],\n",
        "                       title=\"Apakah Wirausaha Pernah Mengalami Masalah Kesehatan Mental?\")\n",
        "    st.plotly_chart(fig5, use_container_width=True)\n",
        "\n",
        "# Tabel Ringkasan\n",
        "st.subheader(\"📋 Ringkasan Data\")\n",
        "st.write(df_filtered.describe(include='all'))\n"
      ],
      "metadata": {
        "colab": {
          "base_uri": "https://localhost:8080/"
        },
        "id": "gqDTKkH8Hm0S",
        "outputId": "eac0711d-387f-4f9a-d443-d40d640ee9d2"
      },
      "execution_count": 62,
      "outputs": [
        {
          "output_type": "stream",
          "name": "stdout",
          "text": [
            "Writing pages/Tugas_Pertemuan_7.py\n"
          ]
        }
      ]
    },
    {
      "cell_type": "markdown",
      "source": [
        "# Cek Isi Dari Home.py"
      ],
      "metadata": {
        "id": "-amhJUOIIN9T"
      }
    },
    {
      "cell_type": "code",
      "source": [
        "!cat Home.py"
      ],
      "metadata": {
        "colab": {
          "base_uri": "https://localhost:8080/"
        },
        "id": "p4ZOcvMmISeM",
        "outputId": "78c0bce1-3748-4ba7-ba6a-b8826425ae84"
      },
      "execution_count": 63,
      "outputs": [
        {
          "output_type": "stream",
          "name": "stdout",
          "text": [
            "import streamlit as st\n",
            "st.title(\"Pengembangan Machine Learning\")\n",
            "\n",
            "st.header(\"Pengembangan Machine Learning\")\n",
            "st.subheader(\"Menggunakan Machine Learning\")\n",
            "st.text(\"Selamat datang di aplikasi kami!\")\n"
          ]
        }
      ]
    },
    {
      "cell_type": "markdown",
      "source": [
        "# Deployment"
      ],
      "metadata": {
        "id": "-Afb3Go-IW_H"
      }
    },
    {
      "cell_type": "code",
      "source": [
        "!npm install localtunnel"
      ],
      "metadata": {
        "colab": {
          "base_uri": "https://localhost:8080/"
        },
        "id": "CVkdXdQAIbDM",
        "outputId": "04a3907d-4e5f-4bc4-b376-43f58195abe6"
      },
      "execution_count": 64,
      "outputs": [
        {
          "output_type": "stream",
          "name": "stdout",
          "text": [
            "\u001b[1G\u001b[0K⠙\u001b[1G\u001b[0K⠹\u001b[1G\u001b[0K⠸\u001b[1G\u001b[0K⠼\u001b[1G\u001b[0K⠴\u001b[1G\u001b[0K⠦\u001b[1G\u001b[0K⠧\u001b[1G\u001b[0K⠇\u001b[1G\u001b[0K⠏\u001b[1G\u001b[0K⠋\u001b[1G\u001b[0K⠙\u001b[1G\u001b[0K⠹\u001b[1G\u001b[0K⠸\u001b[1G\u001b[0K⠼\u001b[1G\u001b[0K⠴\u001b[1G\u001b[0K⠦\u001b[1G\u001b[0K⠧\u001b[1G\u001b[0K⠇\u001b[1G\u001b[0K⠏\u001b[1G\u001b[0K⠋\u001b[1G\u001b[0K⠙\u001b[1G\u001b[0K⠹\u001b[1G\u001b[0K⠸\u001b[1G\u001b[0K⠼\u001b[1G\u001b[0K⠴\u001b[1G\u001b[0K⠦\u001b[1G\u001b[0K⠧\u001b[1G\u001b[0K⠇\u001b[1G\u001b[0K⠏\u001b[1G\u001b[0K⠋\u001b[1G\u001b[0K⠙\u001b[1G\u001b[0K⠹\u001b[1G\u001b[0K⠸\u001b[1G\u001b[0K⠼\u001b[1G\u001b[0K⠴\u001b[1G\u001b[0K⠦\u001b[1G\u001b[0K⠧\u001b[1G\u001b[0K⠇\u001b[1G\u001b[0K⠏\u001b[1G\u001b[0K⠋\u001b[1G\u001b[0K⠙\u001b[1G\u001b[0K⠹\u001b[1G\u001b[0K⠸\u001b[1G\u001b[0K⠼\u001b[1G\u001b[0K⠴\u001b[1G\u001b[0K⠦\u001b[1G\u001b[0K⠧\u001b[1G\u001b[0K⠇\u001b[1G\u001b[0K⠏\u001b[1G\u001b[0K\n",
            "added 22 packages in 7s\n",
            "\u001b[1G\u001b[0K⠏\u001b[1G\u001b[0K\n",
            "\u001b[1G\u001b[0K⠏\u001b[1G\u001b[0K3 packages are looking for funding\n",
            "\u001b[1G\u001b[0K⠏\u001b[1G\u001b[0K  run `npm fund` for details\n",
            "\u001b[1G\u001b[0K⠏\u001b[1G\u001b[0K"
          ]
        }
      ]
    },
    {
      "cell_type": "code",
      "source": [
        "!pwd"
      ],
      "metadata": {
        "colab": {
          "base_uri": "https://localhost:8080/"
        },
        "id": "OcZqBL9qIed1",
        "outputId": "9b707d16-cf0a-4799-ec04-1b71b657517d"
      },
      "execution_count": 65,
      "outputs": [
        {
          "output_type": "stream",
          "name": "stdout",
          "text": [
            "/content/Pengembangan_Machine_Learning/Pengembangan_Machine_Learning\n"
          ]
        }
      ]
    },
    {
      "cell_type": "code",
      "source": [
        "#Kalo ada yg error atau modifikasi, berhentiin dulu tunnelnya. Run sel yg mau dimodifikasi. Baru run lagi dari sini sampe muncul link tunnel yg baru.\n",
        "!streamlit run /content/Pengembangan_Machine_Learning/Home.py &>/content/Pengembangan_Machine_Learning/logs.txt &"
      ],
      "metadata": {
        "id": "kN1Jfu0rIgj_"
      },
      "execution_count": 66,
      "outputs": []
    },
    {
      "cell_type": "code",
      "source": [
        "!timeout 30 cat /content/Pengembangan_Machine_Learning/logs.txt"
      ],
      "metadata": {
        "id": "2eNz5uKdIoLj"
      },
      "execution_count": 67,
      "outputs": []
    },
    {
      "cell_type": "code",
      "source": [
        "import requests\n",
        "requests.get('https://api.ipify.org').text"
      ],
      "metadata": {
        "id": "W-PyPb6FIog6",
        "colab": {
          "base_uri": "https://localhost:8080/",
          "height": 35
        },
        "outputId": "5f56fd68-b3b1-4c39-b40d-71e53365b210"
      },
      "execution_count": 68,
      "outputs": [
        {
          "output_type": "execute_result",
          "data": {
            "text/plain": [
              "'34.16.228.38'"
            ],
            "application/vnd.google.colaboratory.intrinsic+json": {
              "type": "string"
            }
          },
          "metadata": {},
          "execution_count": 68
        }
      ]
    },
    {
      "cell_type": "code",
      "source": [
        "!npx localtunnel --port 8501"
      ],
      "metadata": {
        "colab": {
          "base_uri": "https://localhost:8080/"
        },
        "id": "VNQUg1tsIq2Q",
        "outputId": "5ab58ec4-8ab2-4716-a191-b75496434273"
      },
      "execution_count": 69,
      "outputs": [
        {
          "output_type": "stream",
          "name": "stdout",
          "text": [
            "\u001b[1G\u001b[0K⠙\u001b[1G\u001b[0K⠹\u001b[1G\u001b[0Kyour url is: https://orange-wings-boil.loca.lt\n",
            "/content/Pengembangan_Machine_Learning/Pengembangan_Machine_Learning/node_modules/localtunnel/bin/lt.js:81\n",
            "    throw err;\n",
            "    ^\n",
            "\n",
            "Error: connection refused: localtunnel.me:24965 (check your firewall settings)\n",
            "    at Socket.<anonymous> \u001b[90m(/content/Pengembangan_Machine_Learning/Pengembangan_Machine_Learning/\u001b[39mnode_modules/\u001b[4mlocaltunnel\u001b[24m/lib/TunnelCluster.js:52:11\u001b[90m)\u001b[39m\n",
            "\u001b[90m    at Socket.emit (node:events:524:28)\u001b[39m\n",
            "\u001b[90m    at emitErrorNT (node:internal/streams/destroy:169:8)\u001b[39m\n",
            "\u001b[90m    at emitErrorCloseNT (node:internal/streams/destroy:128:3)\u001b[39m\n",
            "\u001b[90m    at process.processTicksAndRejections (node:internal/process/task_queues:82:21)\u001b[39m\n",
            "\n",
            "Node.js v20.19.0\n",
            "\u001b[1G\u001b[0K⠙\u001b[1G\u001b[0K"
          ]
        }
      ]
    }
  ]
}